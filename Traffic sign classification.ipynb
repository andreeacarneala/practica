{
 "cells": [
  {
   "cell_type": "markdown",
   "id": "2b7a387e-cb0a-4982-b955-040de5f0f376",
   "metadata": {},
   "source": [
    "## Import libraries"
   ]
  },
  {
   "cell_type": "code",
   "execution_count": 40,
   "id": "f67bcd8a-a3b7-4860-8d6a-fb5dddfc974b",
   "metadata": {},
   "outputs": [],
   "source": [
    "import pandas as pd\n",
    "from PIL import Image\n",
    "import matplotlib.pyplot as plt\n",
    "import numpy as np\n"
   ]
  },
  {
   "cell_type": "markdown",
   "id": "623b14ba-4821-4e48-8c2e-a7f34655cbee",
   "metadata": {},
   "source": [
    "# Load dataset"
   ]
  },
  {
   "cell_type": "code",
   "execution_count": 41,
   "id": "c03323bd-cabf-4f2c-8662-007b277e9ccc",
   "metadata": {},
   "outputs": [],
   "source": [
    "df = pd.read_csv(\"gtsrb_dataset.csv\")"
   ]
  },
  {
   "cell_type": "markdown",
   "id": "2389392e-111c-4b2f-b231-e71348e3d23a",
   "metadata": {},
   "source": [
    "### relevant classes"
   ]
  },
  {
   "cell_type": "code",
   "execution_count": 42,
   "id": "53f62121-ff2e-44b7-87e9-a1dce5407754",
   "metadata": {},
   "outputs": [],
   "source": [
    "speed_classes = [1, 2, 3, 4, 5,6,  7, 8, 9, 10, 11, 12]\n"
   ]
  },
  {
   "cell_type": "markdown",
   "id": "2bf033c0-b646-4a24-b529-74a76eedb8cb",
   "metadata": {},
   "source": [
    "### change label"
   ]
  },
  {
   "cell_type": "code",
   "execution_count": 43,
   "id": "9f0a38d0-cf7d-4540-ad78-32a6cdbbb498",
   "metadata": {},
   "outputs": [
    {
     "name": "stdout",
     "output_type": "stream",
     "text": [
      "      label                            path\n",
      "0         0  ./GTSRB_png/01/train_00150.png\n",
      "1         0  ./GTSRB_png/01/train_00151.png\n",
      "2         0  ./GTSRB_png/01/train_00152.png\n",
      "3         0  ./GTSRB_png/01/train_00153.png\n",
      "4         0  ./GTSRB_png/01/train_00154.png\n",
      "...     ...                             ...\n",
      "19915    11   ./GTSRB_png/12/test_12622.png\n",
      "19916    11   ./GTSRB_png/12/test_12625.png\n",
      "19917     5   ./GTSRB_png/06/test_12627.png\n",
      "19918     6   ./GTSRB_png/07/test_12628.png\n",
      "19919     9   ./GTSRB_png/10/test_12629.png\n",
      "\n",
      "[19920 rows x 2 columns]\n"
     ]
    }
   ],
   "source": [
    "new_labels = {\n",
    "    1: 0,\n",
    "    2: 1,\n",
    "    3: 2,\n",
    "    4: 3,\n",
    "    5: 4,\n",
    "    6: 5,\n",
    "    7: 6,\n",
    "    8: 7,\n",
    "    9: 8,\n",
    "    10: 9,\n",
    "    11: 10,\n",
    "    12: 11\n",
    "}\n",
    "\n",
    "df_speed = pd.DataFrame(columns=df.columns)\n",
    "\n",
    "for index, row in df.iterrows():\n",
    "    original_label = row[\"label\"]\n",
    "    if original_label in speed_classes:\n",
    "        \n",
    "        \n",
    "        new_row = row.copy()\n",
    "\n",
    "        new_label = new_labels[original_label]\n",
    "        new_row[\"label\"] = new_label\n",
    "\n",
    "        df_speed = pd.concat([df_speed, pd.DataFrame([new_row])], ignore_index=True)\n",
    "print(df_speed)"
   ]
  },
  {
   "cell_type": "markdown",
   "id": "1072bacb-29c6-41e6-83ff-1da6c0f34a5f",
   "metadata": {},
   "source": [
    "### see the distribution of the dataset"
   ]
  },
  {
   "cell_type": "code",
   "execution_count": 44,
   "id": "c09eca4b-a214-449d-92cb-6bf0456421ed",
   "metadata": {},
   "outputs": [
    {
     "name": "stdout",
     "output_type": "stream",
     "text": [
      "Distribuția etichetelor:\n",
      "Etichetă 0: 2220 exemple\n",
      "Etichetă 1: 2250 exemple\n",
      "Etichetă 2: 1410 exemple\n",
      "Etichetă 3: 1980 exemple\n",
      "Etichetă 4: 1890 exemple\n",
      "Etichetă 5: 450 exemple\n",
      "Etichetă 6: 1410 exemple\n",
      "Etichetă 7: 1410 exemple\n",
      "Etichetă 8: 1470 exemple\n",
      "Etichetă 9: 2010 exemple\n",
      "Etichetă 10: 1320 exemple\n",
      "Etichetă 11: 2100 exemple\n"
     ]
    },
    {
     "data": {
      "image/png": "[encoded data removed]",
      "text/plain": [
       "<Figure size 800x500 with 1 Axes>"
      ]
     },
     "metadata": {},
     "output_type": "display_data"
    }
   ],
   "source": [
    "counts = df_speed[\"label\"].value_counts().sort_index()\n",
    "\n",
    "# Afișăm valorile în consolă\n",
    "print(\"Distribuția etichetelor:\")\n",
    "for label, count in counts.items():\n",
    "    print(f\"Etichetă {label}: {count} exemple\")\n",
    "\n",
    "# Afișăm graficul\n",
    "plt.figure(figsize=(8, 5))\n",
    "counts.plot(kind=\"bar\")\n",
    "plt.title(\"Distribuția etichetelor în dataset\")\n",
    "plt.xlabel(\"Etichetă\")\n",
    "plt.ylabel(\"Număr de exemple\")\n",
    "plt.grid(axis='y')\n",
    "plt.show()"
   ]
  },
  {
   "cell_type": "markdown",
   "id": "32322a1d-a92a-4f16-97a4-8e99c5340266",
   "metadata": {},
   "source": [
    "### Balance the dataframe"
   ]
  },
  {
   "cell_type": "code",
   "execution_count": 45,
   "id": "a188d789-4aba-4e02-9120-1eb64871bb10",
   "metadata": {},
   "outputs": [],
   "source": [
    "\n",
    "balanced_df = []\n",
    "max_per_class = 1000\n",
    "for label,count in counts.items():\n",
    "    df_label = df_speed[df_speed['label'] == label]\n",
    "    if len(df_label) > max_per_class:\n",
    "        df_sample = df_label.sample(n=max_per_class, random_state=10)\n",
    "        balanced_df.append(df_sample)\n",
    "    else:\n",
    "        balanced_df.append(df_label)\n",
    "\n",
    "df_speed = pd.concat(balanced_df).reset_index(drop=True)"
   ]
  },
  {
   "cell_type": "markdown",
   "id": "25df5446-e422-4b7c-97ed-22010422e9ad",
   "metadata": {},
   "source": [
    "### see the new distribution"
   ]
  },
  {
   "cell_type": "code",
   "execution_count": 46,
   "id": "2b266a18-fda6-487c-beca-6462930da236",
   "metadata": {},
   "outputs": [
    {
     "name": "stdout",
     "output_type": "stream",
     "text": [
      "Distribuția etichetelor:\n",
      "Etichetă 0: 1000 exemple\n",
      "Etichetă 1: 1000 exemple\n",
      "Etichetă 2: 1000 exemple\n",
      "Etichetă 3: 1000 exemple\n",
      "Etichetă 4: 1000 exemple\n",
      "Etichetă 5: 450 exemple\n",
      "Etichetă 6: 1000 exemple\n",
      "Etichetă 7: 1000 exemple\n",
      "Etichetă 8: 1000 exemple\n",
      "Etichetă 9: 1000 exemple\n",
      "Etichetă 10: 1000 exemple\n",
      "Etichetă 11: 1000 exemple\n"
     ]
    },
    {
     "data": {
      "image/png": "[encoded data removed]",
      "text/plain": [
       "<Figure size 800x500 with 1 Axes>"
      ]
     },
     "metadata": {},
     "output_type": "display_data"
    }
   ],
   "source": [
    "counts = df_speed[\"label\"].value_counts().sort_index()\n",
    "\n",
    "# Afișăm valorile în consolă\n",
    "print(\"Distribuția etichetelor:\")\n",
    "for label, count in counts.items():\n",
    "    print(f\"Etichetă {label}: {count} exemple\")\n",
    "\n",
    "# Afișăm graficul\n",
    "plt.figure(figsize=(8, 5))\n",
    "counts.plot(kind=\"bar\")\n",
    "plt.title(\"Distribuția etichetelor în dataset\")\n",
    "plt.xlabel(\"Etichetă\")\n",
    "plt.ylabel(\"Număr de exemple\")\n",
    "plt.grid(axis='y')\n",
    "plt.show()"
   ]
  },
  {
   "cell_type": "markdown",
   "id": "89106b26-402f-49b5-9c3b-b51454e62b28",
   "metadata": {},
   "source": [
    "## Prepare test train datasets"
   ]
  },
  {
   "cell_type": "markdown",
   "id": "5b9d0d41-fbb9-4b4a-92a0-4c5d08b21057",
   "metadata": {},
   "source": [
    "### shuffle the dataset"
   ]
  },
  {
   "cell_type": "code",
   "execution_count": 47,
   "id": "406fd764-0841-450c-9e03-aca9d0f69602",
   "metadata": {},
   "outputs": [],
   "source": [
    "df_shuffled = df_speed.sample(frac=1, random_state=42).reset_index(drop=True)"
   ]
  },
  {
   "cell_type": "markdown",
   "id": "bfdc0814-1115-42f4-a322-10aabae07559",
   "metadata": {},
   "source": [
    "### split the dataset"
   ]
  },
  {
   "cell_type": "code",
   "execution_count": 48,
   "id": "e5d313e0-94f3-49e8-9e0e-118197facff2",
   "metadata": {},
   "outputs": [
    {
     "name": "stdout",
     "output_type": "stream",
     "text": [
      "Train: 9160 – Test: 2290\n"
     ]
    }
   ],
   "source": [
    "train_test_ratio = 0.8\n",
    "train_size = (int)(len(df_shuffled) *0.8)\n",
    "test_size = len(df_shuffled) - train_size\n",
    "df_train    = df_shuffled.iloc[:train_size].reset_index(drop=True)\n",
    "df_test     = df_shuffled.iloc[train_size:].reset_index(drop=True)\n",
    "\n",
    "print(\"Train:\", len(df_train), \"– Test:\", len(df_test))"
   ]
  },
  {
   "cell_type": "markdown",
   "id": "928f618f-0fc5-44a9-a451-b669825cd54b",
   "metadata": {},
   "source": [
    "### Preprocess images"
   ]
  },
  {
   "cell_type": "markdown",
   "id": "90341764-e68d-46a7-9c68-eedf2093c368",
   "metadata": {},
   "source": [
    "### image size"
   ]
  },
  {
   "cell_type": "code",
   "execution_count": 49,
   "id": "0672c520-dffe-44cb-bafc-9b98cca739cf",
   "metadata": {},
   "outputs": [],
   "source": [
    "image_size = (50,50)"
   ]
  },
  {
   "cell_type": "code",
   "execution_count": 50,
   "id": "dd10bbe3-c9ef-4ecc-a355-e5af3668fa56",
   "metadata": {},
   "outputs": [],
   "source": [
    "\n",
    "def preprocess_image(img, size=image_size):\n",
    "    img = img.resize(size)\n",
    "    img = img.convert(\"L\")\n",
    "    arr = np.array(img, dtype=np.float32)   \n",
    "    arr = arr.flatten()\n",
    "    arr /= 255\n",
    "    return arr"
   ]
  },
  {
   "cell_type": "markdown",
   "id": "1442c3d5-296f-44a9-94e9-9701aade3279",
   "metadata": {},
   "source": [
    "### one hot encoding function"
   ]
  },
  {
   "cell_type": "code",
   "execution_count": 51,
   "id": "16709ac3-ee01-45e7-8a9f-6b9694d1d9c8",
   "metadata": {},
   "outputs": [],
   "source": [
    "  \n",
    "def one_hot(Y, num_classes):\n",
    "    Y = Y.astype(int)\n",
    "    m = Y.shape[0]\n",
    "    Y_oh = np.zeros((num_classes, m), dtype=np.int32)\n",
    "    Y_oh[Y, np.arange(m)] = 1\n",
    "    return Y_oh"
   ]
  },
  {
   "cell_type": "markdown",
   "id": "03f94743-8617-417e-9554-10ba3ebb89e9",
   "metadata": {},
   "source": [
    "### change dataset format"
   ]
  },
  {
   "cell_type": "markdown",
   "id": "2bacd855-c98a-41eb-b34a-0abb2c584418",
   "metadata": {},
   "source": [
    "### Prepare train df"
   ]
  },
  {
   "cell_type": "code",
   "execution_count": 56,
   "id": "55d9089c-7fdf-4d6f-b10d-4776a98ed61b",
   "metadata": {},
   "outputs": [
    {
     "name": "stdout",
     "output_type": "stream",
     "text": [
      "(9160, 2500)\n",
      "(2500, 9160)\n"
     ]
    }
   ],
   "source": [
    "total_pixels = image_size[0]*image_size[1]\n",
    "num_classes = 12\n",
    "number_images = len(df_train)\n",
    "\n",
    "X_train = np.zeros((number_images, total_pixels), dtype=np.float32)\n",
    "for i, path in enumerate(df_train[\"path\"]):\n",
    "    X_train[i,:] = preprocess_image(Image.open(path))\n",
    "print(X_train.shape)\n",
    "X_train = X_train.T\n",
    "print(X_train.shape)\n",
    "Y_train = one_hot(np.array(df_train[\"label\"].values.astype(\"float32\")), num_classes)\n",
    "\n"
   ]
  },
  {
   "cell_type": "markdown",
   "id": "0262baf8-26ca-4c23-b343-180419e80c6f",
   "metadata": {},
   "source": [
    "### Prepare test df"
   ]
  },
  {
   "cell_type": "code",
   "execution_count": 57,
   "id": "e0fbe665-f4c6-421c-a871-5d61132bae71",
   "metadata": {},
   "outputs": [
    {
     "name": "stdout",
     "output_type": "stream",
     "text": [
      "(2500, 2290)\n"
     ]
    }
   ],
   "source": [
    "number_images = len(df_test)\n",
    "m_test = len(df_test)\n",
    "X_test = np.zeros((total_pixels, number_images), dtype=np.float32)\n",
    "for i, path in enumerate(df_test[\"path\"]):\n",
    "    X_test[:, i] = preprocess_image(Image.open(path))\n",
    "Y_test = one_hot(np.array(df_test[\"label\"].values.astype(\"float32\")), num_classes)\n",
    "print(X_test.shape)"
   ]
  },
  {
   "cell_type": "code",
   "execution_count": 59,
   "id": "c2ab8c85-9257-494a-976a-a1993f1d3c05",
   "metadata": {},
   "outputs": [
    {
     "name": "stdout",
     "output_type": "stream",
     "text": [
      "X_train_tf shape: (9160, 2500)\n",
      "Y_train_tf shape: (9160, 12)\n"
     ]
    }
   ],
   "source": [
    "import tensorflow as tf\n",
    "\n",
    "X_train_tf = X_train.T\n",
    "X_test_tf = X_test.T\n",
    "Y_train_tf = Y_train.T\n",
    "Y_test_tf = Y_test.T\n",
    "\n",
    "print(\"X_train_tf shape:\", X_train_tf.shape)\n",
    "print(\"Y_train_tf shape:\", Y_train_tf.shape)\n"
   ]
  },
  {
   "cell_type": "code",
   "execution_count": 61,
   "id": "2db6923a-b08b-49be-b8fe-e0886f3ae881",
   "metadata": {},
   "outputs": [
    {
     "data": {
      "text/html": [
       "<pre style=\"white-space:pre;overflow-x:auto;line-height:normal;font-family:Menlo,'DejaVu Sans Mono',consolas,'Courier New',monospace\"><span style=\"font-weight: bold\">Model: \"sequential_1\"</span>\n",
       "</pre>\n"
      ],
      "text/plain": [
       "\u001b[1mModel: \"sequential_1\"\u001b[0m\n"
      ]
     },
     "metadata": {},
     "output_type": "display_data"
    },
    {
     "data": {
      "text/html": [
       "<pre style=\"white-space:pre;overflow-x:auto;line-height:normal;font-family:Menlo,'DejaVu Sans Mono',consolas,'Courier New',monospace\">┏━━━━━━━━━━━━━━━━━━━━━━━━━━━━━━━━━┳━━━━━━━━━━━━━━━━━━━━━━━━┳━━━━━━━━━━━━━━━┓\n",
       "┃<span style=\"font-weight: bold\"> Layer (type)                    </span>┃<span style=\"font-weight: bold\"> Output Shape           </span>┃<span style=\"font-weight: bold\">       Param # </span>┃\n",
       "┡━━━━━━━━━━━━━━━━━━━━━━━━━━━━━━━━━╇━━━━━━━━━━━━━━━━━━━━━━━━╇━━━━━━━━━━━━━━━┩\n",
       "│ dense_3 (<span style=\"color: #0087ff; text-decoration-color: #0087ff\">Dense</span>)                 │ (<span style=\"color: #00d7ff; text-decoration-color: #00d7ff\">None</span>, <span style=\"color: #00af00; text-decoration-color: #00af00\">20</span>)             │        <span style=\"color: #00af00; text-decoration-color: #00af00\">50,020</span> │\n",
       "├─────────────────────────────────┼────────────────────────┼───────────────┤\n",
       "│ dense_4 (<span style=\"color: #0087ff; text-decoration-color: #0087ff\">Dense</span>)                 │ (<span style=\"color: #00d7ff; text-decoration-color: #00d7ff\">None</span>, <span style=\"color: #00af00; text-decoration-color: #00af00\">20</span>)             │           <span style=\"color: #00af00; text-decoration-color: #00af00\">420</span> │\n",
       "├─────────────────────────────────┼────────────────────────┼───────────────┤\n",
       "│ dense_5 (<span style=\"color: #0087ff; text-decoration-color: #0087ff\">Dense</span>)                 │ (<span style=\"color: #00d7ff; text-decoration-color: #00d7ff\">None</span>, <span style=\"color: #00af00; text-decoration-color: #00af00\">12</span>)             │           <span style=\"color: #00af00; text-decoration-color: #00af00\">252</span> │\n",
       "└─────────────────────────────────┴────────────────────────┴───────────────┘\n",
       "</pre>\n"
      ],
      "text/plain": [
       "┏━━━━━━━━━━━━━━━━━━━━━━━━━━━━━━━━━┳━━━━━━━━━━━━━━━━━━━━━━━━┳━━━━━━━━━━━━━━━┓\n",
       "┃\u001b[1m \u001b[0m\u001b[1mLayer (type)                   \u001b[0m\u001b[1m \u001b[0m┃\u001b[1m \u001b[0m\u001b[1mOutput Shape          \u001b[0m\u001b[1m \u001b[0m┃\u001b[1m \u001b[0m\u001b[1m      Param #\u001b[0m\u001b[1m \u001b[0m┃\n",
       "┡━━━━━━━━━━━━━━━━━━━━━━━━━━━━━━━━━╇━━━━━━━━━━━━━━━━━━━━━━━━╇━━━━━━━━━━━━━━━┩\n",
       "│ dense_3 (\u001b[38;5;33mDense\u001b[0m)                 │ (\u001b[38;5;45mNone\u001b[0m, \u001b[38;5;34m20\u001b[0m)             │        \u001b[38;5;34m50,020\u001b[0m │\n",
       "├─────────────────────────────────┼────────────────────────┼───────────────┤\n",
       "│ dense_4 (\u001b[38;5;33mDense\u001b[0m)                 │ (\u001b[38;5;45mNone\u001b[0m, \u001b[38;5;34m20\u001b[0m)             │           \u001b[38;5;34m420\u001b[0m │\n",
       "├─────────────────────────────────┼────────────────────────┼───────────────┤\n",
       "│ dense_5 (\u001b[38;5;33mDense\u001b[0m)                 │ (\u001b[38;5;45mNone\u001b[0m, \u001b[38;5;34m12\u001b[0m)             │           \u001b[38;5;34m252\u001b[0m │\n",
       "└─────────────────────────────────┴────────────────────────┴───────────────┘\n"
      ]
     },
     "metadata": {},
     "output_type": "display_data"
    },
    {
     "data": {
      "text/html": [
       "<pre style=\"white-space:pre;overflow-x:auto;line-height:normal;font-family:Menlo,'DejaVu Sans Mono',consolas,'Courier New',monospace\"><span style=\"font-weight: bold\"> Total params: </span><span style=\"color: #00af00; text-decoration-color: #00af00\">50,692</span> (198.02 KB)\n",
       "</pre>\n"
      ],
      "text/plain": [
       "\u001b[1m Total params: \u001b[0m\u001b[38;5;34m50,692\u001b[0m (198.02 KB)\n"
      ]
     },
     "metadata": {},
     "output_type": "display_data"
    },
    {
     "data": {
      "text/html": [
       "<pre style=\"white-space:pre;overflow-x:auto;line-height:normal;font-family:Menlo,'DejaVu Sans Mono',consolas,'Courier New',monospace\"><span style=\"font-weight: bold\"> Trainable params: </span><span style=\"color: #00af00; text-decoration-color: #00af00\">50,692</span> (198.02 KB)\n",
       "</pre>\n"
      ],
      "text/plain": [
       "\u001b[1m Trainable params: \u001b[0m\u001b[38;5;34m50,692\u001b[0m (198.02 KB)\n"
      ]
     },
     "metadata": {},
     "output_type": "display_data"
    },
    {
     "data": {
      "text/html": [
       "<pre style=\"white-space:pre;overflow-x:auto;line-height:normal;font-family:Menlo,'DejaVu Sans Mono',consolas,'Courier New',monospace\"><span style=\"font-weight: bold\"> Non-trainable params: </span><span style=\"color: #00af00; text-decoration-color: #00af00\">0</span> (0.00 B)\n",
       "</pre>\n"
      ],
      "text/plain": [
       "\u001b[1m Non-trainable params: \u001b[0m\u001b[38;5;34m0\u001b[0m (0.00 B)\n"
      ]
     },
     "metadata": {},
     "output_type": "display_data"
    }
   ],
   "source": [
    "model = tf.keras.Sequential([\n",
    "    tf.keras.layers.Input(shape=(total_pixels,)),           \n",
    "    tf.keras.layers.Dense(20, activation='relu'),           \n",
    "    tf.keras.layers.Dense(20, activation='relu'),           \n",
    "    tf.keras.layers.Dense(num_classes, activation='softmax')\n",
    "])\n",
    "\n",
    "model.summary()\n"
   ]
  },
  {
   "cell_type": "code",
   "execution_count": 62,
   "id": "2a28dd98-8ace-42c0-b829-0abafa0b24dc",
   "metadata": {},
   "outputs": [],
   "source": [
    "model.compile(optimizer='adam',\n",
    "              loss='categorical_crossentropy',\n",
    "              metrics=['accuracy'])\n"
   ]
  },
  {
   "cell_type": "code",
   "execution_count": 70,
   "id": "9f40833c-d98f-4bd8-9901-448a26712498",
   "metadata": {},
   "outputs": [
    {
     "name": "stdout",
     "output_type": "stream",
     "text": [
      "Epoch 1/120\n",
      "\u001b[1m287/287\u001b[0m \u001b[32m━━━━━━━━━━━━━━━━━━━━\u001b[0m\u001b[37m\u001b[0m \u001b[1m1s\u001b[0m 2ms/step - accuracy: 0.9412 - loss: 0.1889 - val_accuracy: 0.8991 - val_loss: 0.4885\n",
      "Epoch 2/120\n",
      "\u001b[1m287/287\u001b[0m \u001b[32m━━━━━━━━━━━━━━━━━━━━\u001b[0m\u001b[37m\u001b[0m \u001b[1m1s\u001b[0m 2ms/step - accuracy: 0.9472 - loss: 0.1729 - val_accuracy: 0.8786 - val_loss: 0.5643\n",
      "Epoch 3/120\n",
      "\u001b[1m287/287\u001b[0m \u001b[32m━━━━━━━━━━━━━━━━━━━━\u001b[0m\u001b[37m\u001b[0m \u001b[1m1s\u001b[0m 2ms/step - accuracy: 0.9457 - loss: 0.1790 - val_accuracy: 0.8939 - val_loss: 0.5939\n",
      "Epoch 4/120\n",
      "\u001b[1m287/287\u001b[0m \u001b[32m━━━━━━━━━━━━━━━━━━━━\u001b[0m\u001b[37m\u001b[0m \u001b[1m1s\u001b[0m 2ms/step - accuracy: 0.9367 - loss: 0.2132 - val_accuracy: 0.8838 - val_loss: 0.5877\n",
      "Epoch 5/120\n",
      "\u001b[1m287/287\u001b[0m \u001b[32m━━━━━━━━━━━━━━━━━━━━\u001b[0m\u001b[37m\u001b[0m \u001b[1m1s\u001b[0m 2ms/step - accuracy: 0.9485 - loss: 0.1664 - val_accuracy: 0.8834 - val_loss: 0.6011\n",
      "Epoch 6/120\n",
      "\u001b[1m287/287\u001b[0m \u001b[32m━━━━━━━━━━━━━━━━━━━━\u001b[0m\u001b[37m\u001b[0m \u001b[1m1s\u001b[0m 2ms/step - accuracy: 0.9620 - loss: 0.1292 - val_accuracy: 0.9026 - val_loss: 0.4839\n",
      "Epoch 7/120\n",
      "\u001b[1m287/287\u001b[0m \u001b[32m━━━━━━━━━━━━━━━━━━━━\u001b[0m\u001b[37m\u001b[0m \u001b[1m1s\u001b[0m 2ms/step - accuracy: 0.9608 - loss: 0.1338 - val_accuracy: 0.9083 - val_loss: 0.5005\n",
      "Epoch 8/120\n",
      "\u001b[1m287/287\u001b[0m \u001b[32m━━━━━━━━━━━━━━━━━━━━\u001b[0m\u001b[37m\u001b[0m \u001b[1m1s\u001b[0m 2ms/step - accuracy: 0.9540 - loss: 0.1476 - val_accuracy: 0.8961 - val_loss: 0.5661\n",
      "Epoch 9/120\n",
      "\u001b[1m287/287\u001b[0m \u001b[32m━━━━━━━━━━━━━━━━━━━━\u001b[0m\u001b[37m\u001b[0m \u001b[1m1s\u001b[0m 2ms/step - accuracy: 0.9602 - loss: 0.1344 - val_accuracy: 0.9074 - val_loss: 0.4772\n",
      "Epoch 10/120\n",
      "\u001b[1m287/287\u001b[0m \u001b[32m━━━━━━━━━━━━━━━━━━━━\u001b[0m\u001b[37m\u001b[0m \u001b[1m1s\u001b[0m 2ms/step - accuracy: 0.9503 - loss: 0.1564 - val_accuracy: 0.8991 - val_loss: 0.5094\n",
      "Epoch 11/120\n",
      "\u001b[1m287/287\u001b[0m \u001b[32m━━━━━━━━━━━━━━━━━━━━\u001b[0m\u001b[37m\u001b[0m \u001b[1m1s\u001b[0m 2ms/step - accuracy: 0.9460 - loss: 0.1689 - val_accuracy: 0.9044 - val_loss: 0.4942\n",
      "Epoch 12/120\n",
      "\u001b[1m287/287\u001b[0m \u001b[32m━━━━━━━━━━━━━━━━━━━━\u001b[0m\u001b[37m\u001b[0m \u001b[1m1s\u001b[0m 2ms/step - accuracy: 0.9574 - loss: 0.1429 - val_accuracy: 0.9004 - val_loss: 0.5658\n",
      "Epoch 13/120\n",
      "\u001b[1m287/287\u001b[0m \u001b[32m━━━━━━━━━━━━━━━━━━━━\u001b[0m\u001b[37m\u001b[0m \u001b[1m1s\u001b[0m 2ms/step - accuracy: 0.9472 - loss: 0.1880 - val_accuracy: 0.9013 - val_loss: 0.5165\n",
      "Epoch 14/120\n",
      "\u001b[1m287/287\u001b[0m \u001b[32m━━━━━━━━━━━━━━━━━━━━\u001b[0m\u001b[37m\u001b[0m \u001b[1m1s\u001b[0m 2ms/step - accuracy: 0.9604 - loss: 0.1336 - val_accuracy: 0.8983 - val_loss: 0.4849\n",
      "Epoch 15/120\n",
      "\u001b[1m287/287\u001b[0m \u001b[32m━━━━━━━━━━━━━━━━━━━━\u001b[0m\u001b[37m\u001b[0m \u001b[1m1s\u001b[0m 2ms/step - accuracy: 0.9514 - loss: 0.1542 - val_accuracy: 0.8952 - val_loss: 0.5239\n",
      "Epoch 16/120\n",
      "\u001b[1m287/287\u001b[0m \u001b[32m━━━━━━━━━━━━━━━━━━━━\u001b[0m\u001b[37m\u001b[0m \u001b[1m1s\u001b[0m 2ms/step - accuracy: 0.9570 - loss: 0.1486 - val_accuracy: 0.9048 - val_loss: 0.4918\n",
      "Epoch 17/120\n",
      "\u001b[1m287/287\u001b[0m \u001b[32m━━━━━━━━━━━━━━━━━━━━\u001b[0m\u001b[37m\u001b[0m \u001b[1m1s\u001b[0m 2ms/step - accuracy: 0.9484 - loss: 0.1748 - val_accuracy: 0.8926 - val_loss: 0.5360\n",
      "Epoch 18/120\n",
      "\u001b[1m287/287\u001b[0m \u001b[32m━━━━━━━━━━━━━━━━━━━━\u001b[0m\u001b[37m\u001b[0m \u001b[1m1s\u001b[0m 2ms/step - accuracy: 0.9349 - loss: 0.1978 - val_accuracy: 0.8716 - val_loss: 0.5971\n",
      "Epoch 19/120\n",
      "\u001b[1m287/287\u001b[0m \u001b[32m━━━━━━━━━━━━━━━━━━━━\u001b[0m\u001b[37m\u001b[0m \u001b[1m1s\u001b[0m 2ms/step - accuracy: 0.9525 - loss: 0.1554 - val_accuracy: 0.9079 - val_loss: 0.5036\n",
      "Epoch 20/120\n",
      "\u001b[1m287/287\u001b[0m \u001b[32m━━━━━━━━━━━━━━━━━━━━\u001b[0m\u001b[37m\u001b[0m \u001b[1m1s\u001b[0m 2ms/step - accuracy: 0.9584 - loss: 0.1456 - val_accuracy: 0.8817 - val_loss: 0.5753\n",
      "Epoch 21/120\n",
      "\u001b[1m287/287\u001b[0m \u001b[32m━━━━━━━━━━━━━━━━━━━━\u001b[0m\u001b[37m\u001b[0m \u001b[1m1s\u001b[0m 2ms/step - accuracy: 0.9509 - loss: 0.1599 - val_accuracy: 0.9009 - val_loss: 0.5444\n",
      "Epoch 22/120\n",
      "\u001b[1m287/287\u001b[0m \u001b[32m━━━━━━━━━━━━━━━━━━━━\u001b[0m\u001b[37m\u001b[0m \u001b[1m1s\u001b[0m 2ms/step - accuracy: 0.9631 - loss: 0.1280 - val_accuracy: 0.9122 - val_loss: 0.4821\n",
      "Epoch 23/120\n",
      "\u001b[1m287/287\u001b[0m \u001b[32m━━━━━━━━━━━━━━━━━━━━\u001b[0m\u001b[37m\u001b[0m \u001b[1m1s\u001b[0m 2ms/step - accuracy: 0.9473 - loss: 0.1537 - val_accuracy: 0.8734 - val_loss: 0.6847\n",
      "Epoch 24/120\n",
      "\u001b[1m287/287\u001b[0m \u001b[32m━━━━━━━━━━━━━━━━━━━━\u001b[0m\u001b[37m\u001b[0m \u001b[1m1s\u001b[0m 2ms/step - accuracy: 0.9439 - loss: 0.1888 - val_accuracy: 0.8734 - val_loss: 0.6134\n",
      "Epoch 25/120\n",
      "\u001b[1m287/287\u001b[0m \u001b[32m━━━━━━━━━━━━━━━━━━━━\u001b[0m\u001b[37m\u001b[0m \u001b[1m1s\u001b[0m 2ms/step - accuracy: 0.9481 - loss: 0.1622 - val_accuracy: 0.9044 - val_loss: 0.4924\n",
      "Epoch 26/120\n",
      "\u001b[1m287/287\u001b[0m \u001b[32m━━━━━━━━━━━━━━━━━━━━\u001b[0m\u001b[37m\u001b[0m \u001b[1m1s\u001b[0m 2ms/step - accuracy: 0.9532 - loss: 0.1533 - val_accuracy: 0.9052 - val_loss: 0.5065\n",
      "Epoch 27/120\n",
      "\u001b[1m287/287\u001b[0m \u001b[32m━━━━━━━━━━━━━━━━━━━━\u001b[0m\u001b[37m\u001b[0m \u001b[1m1s\u001b[0m 2ms/step - accuracy: 0.9579 - loss: 0.1337 - val_accuracy: 0.9100 - val_loss: 0.5118\n",
      "Epoch 28/120\n",
      "\u001b[1m287/287\u001b[0m \u001b[32m━━━━━━━━━━━━━━━━━━━━\u001b[0m\u001b[37m\u001b[0m \u001b[1m1s\u001b[0m 2ms/step - accuracy: 0.9602 - loss: 0.1249 - val_accuracy: 0.8725 - val_loss: 0.7163\n",
      "Epoch 29/120\n",
      "\u001b[1m287/287\u001b[0m \u001b[32m━━━━━━━━━━━━━━━━━━━━\u001b[0m\u001b[37m\u001b[0m \u001b[1m1s\u001b[0m 2ms/step - accuracy: 0.9244 - loss: 0.2769 - val_accuracy: 0.8996 - val_loss: 0.5152\n",
      "Epoch 30/120\n",
      "\u001b[1m287/287\u001b[0m \u001b[32m━━━━━━━━━━━━━━━━━━━━\u001b[0m\u001b[37m\u001b[0m \u001b[1m1s\u001b[0m 2ms/step - accuracy: 0.9662 - loss: 0.1124 - val_accuracy: 0.8969 - val_loss: 0.5328\n",
      "Epoch 31/120\n",
      "\u001b[1m287/287\u001b[0m \u001b[32m━━━━━━━━━━━━━━━━━━━━\u001b[0m\u001b[37m\u001b[0m \u001b[1m1s\u001b[0m 2ms/step - accuracy: 0.9656 - loss: 0.1154 - val_accuracy: 0.9100 - val_loss: 0.5010\n",
      "Epoch 32/120\n",
      "\u001b[1m287/287\u001b[0m \u001b[32m━━━━━━━━━━━━━━━━━━━━\u001b[0m\u001b[37m\u001b[0m \u001b[1m1s\u001b[0m 2ms/step - accuracy: 0.9614 - loss: 0.1238 - val_accuracy: 0.8782 - val_loss: 0.6340\n",
      "Epoch 33/120\n",
      "\u001b[1m287/287\u001b[0m \u001b[32m━━━━━━━━━━━━━━━━━━━━\u001b[0m\u001b[37m\u001b[0m \u001b[1m1s\u001b[0m 2ms/step - accuracy: 0.9497 - loss: 0.1657 - val_accuracy: 0.9000 - val_loss: 0.5235\n",
      "Epoch 34/120\n",
      "\u001b[1m287/287\u001b[0m \u001b[32m━━━━━━━━━━━━━━━━━━━━\u001b[0m\u001b[37m\u001b[0m \u001b[1m1s\u001b[0m 2ms/step - accuracy: 0.9577 - loss: 0.1370 - val_accuracy: 0.8878 - val_loss: 0.5589\n",
      "Epoch 35/120\n",
      "\u001b[1m287/287\u001b[0m \u001b[32m━━━━━━━━━━━━━━━━━━━━\u001b[0m\u001b[37m\u001b[0m \u001b[1m1s\u001b[0m 2ms/step - accuracy: 0.9543 - loss: 0.1455 - val_accuracy: 0.8891 - val_loss: 0.5772\n",
      "Epoch 36/120\n",
      "\u001b[1m287/287\u001b[0m \u001b[32m━━━━━━━━━━━━━━━━━━━━\u001b[0m\u001b[37m\u001b[0m \u001b[1m1s\u001b[0m 2ms/step - accuracy: 0.9552 - loss: 0.1407 - val_accuracy: 0.8930 - val_loss: 0.5530\n",
      "Epoch 37/120\n",
      "\u001b[1m287/287\u001b[0m \u001b[32m━━━━━━━━━━━━━━━━━━━━\u001b[0m\u001b[37m\u001b[0m \u001b[1m1s\u001b[0m 2ms/step - accuracy: 0.9529 - loss: 0.1446 - val_accuracy: 0.9066 - val_loss: 0.5126\n",
      "Epoch 38/120\n",
      "\u001b[1m287/287\u001b[0m \u001b[32m━━━━━━━━━━━━━━━━━━━━\u001b[0m\u001b[37m\u001b[0m \u001b[1m1s\u001b[0m 2ms/step - accuracy: 0.9498 - loss: 0.1613 - val_accuracy: 0.8987 - val_loss: 0.4972\n",
      "Epoch 39/120\n",
      "\u001b[1m287/287\u001b[0m \u001b[32m━━━━━━━━━━━━━━━━━━━━\u001b[0m\u001b[37m\u001b[0m \u001b[1m1s\u001b[0m 2ms/step - accuracy: 0.9542 - loss: 0.1475 - val_accuracy: 0.8996 - val_loss: 0.5574\n",
      "Epoch 40/120\n",
      "\u001b[1m287/287\u001b[0m \u001b[32m━━━━━━━━━━━━━━━━━━━━\u001b[0m\u001b[37m\u001b[0m \u001b[1m1s\u001b[0m 2ms/step - accuracy: 0.9426 - loss: 0.1795 - val_accuracy: 0.9087 - val_loss: 0.5125\n",
      "Epoch 41/120\n",
      "\u001b[1m287/287\u001b[0m \u001b[32m━━━━━━━━━━━━━━━━━━━━\u001b[0m\u001b[37m\u001b[0m \u001b[1m1s\u001b[0m 2ms/step - accuracy: 0.9508 - loss: 0.1673 - val_accuracy: 0.9066 - val_loss: 0.5031\n",
      "Epoch 42/120\n",
      "\u001b[1m287/287\u001b[0m \u001b[32m━━━━━━━━━━━━━━━━━━━━\u001b[0m\u001b[37m\u001b[0m \u001b[1m1s\u001b[0m 2ms/step - accuracy: 0.9670 - loss: 0.1143 - val_accuracy: 0.9066 - val_loss: 0.4902\n",
      "Epoch 43/120\n",
      "\u001b[1m287/287\u001b[0m \u001b[32m━━━━━━━━━━━━━━━━━━━━\u001b[0m\u001b[37m\u001b[0m \u001b[1m1s\u001b[0m 2ms/step - accuracy: 0.9612 - loss: 0.1229 - val_accuracy: 0.8629 - val_loss: 0.6907\n",
      "Epoch 44/120\n",
      "\u001b[1m287/287\u001b[0m \u001b[32m━━━━━━━━━━━━━━━━━━━━\u001b[0m\u001b[37m\u001b[0m \u001b[1m1s\u001b[0m 2ms/step - accuracy: 0.9464 - loss: 0.1794 - val_accuracy: 0.9140 - val_loss: 0.4728\n",
      "Epoch 45/120\n",
      "\u001b[1m287/287\u001b[0m \u001b[32m━━━━━━━━━━━━━━━━━━━━\u001b[0m\u001b[37m\u001b[0m \u001b[1m1s\u001b[0m 2ms/step - accuracy: 0.9661 - loss: 0.1175 - val_accuracy: 0.8838 - val_loss: 0.6218\n",
      "Epoch 46/120\n",
      "\u001b[1m287/287\u001b[0m \u001b[32m━━━━━━━━━━━━━━━━━━━━\u001b[0m\u001b[37m\u001b[0m \u001b[1m1s\u001b[0m 2ms/step - accuracy: 0.9520 - loss: 0.1440 - val_accuracy: 0.9061 - val_loss: 0.4951\n",
      "Epoch 47/120\n",
      "\u001b[1m287/287\u001b[0m \u001b[32m━━━━━━━━━━━━━━━━━━━━\u001b[0m\u001b[37m\u001b[0m \u001b[1m1s\u001b[0m 2ms/step - accuracy: 0.9518 - loss: 0.1550 - val_accuracy: 0.9017 - val_loss: 0.5303\n",
      "Epoch 48/120\n",
      "\u001b[1m287/287\u001b[0m \u001b[32m━━━━━━━━━━━━━━━━━━━━\u001b[0m\u001b[37m\u001b[0m \u001b[1m1s\u001b[0m 2ms/step - accuracy: 0.9570 - loss: 0.1362 - val_accuracy: 0.8926 - val_loss: 0.5146\n",
      "Epoch 49/120\n",
      "\u001b[1m287/287\u001b[0m \u001b[32m━━━━━━━━━━━━━━━━━━━━\u001b[0m\u001b[37m\u001b[0m \u001b[1m1s\u001b[0m 2ms/step - accuracy: 0.9584 - loss: 0.1327 - val_accuracy: 0.9000 - val_loss: 0.5048\n",
      "Epoch 50/120\n",
      "\u001b[1m287/287\u001b[0m \u001b[32m━━━━━━━━━━━━━━━━━━━━\u001b[0m\u001b[37m\u001b[0m \u001b[1m1s\u001b[0m 2ms/step - accuracy: 0.9554 - loss: 0.1490 - val_accuracy: 0.8830 - val_loss: 0.6027\n",
      "Epoch 51/120\n",
      "\u001b[1m287/287\u001b[0m \u001b[32m━━━━━━━━━━━━━━━━━━━━\u001b[0m\u001b[37m\u001b[0m \u001b[1m1s\u001b[0m 2ms/step - accuracy: 0.9532 - loss: 0.1550 - val_accuracy: 0.9109 - val_loss: 0.4882\n",
      "Epoch 52/120\n",
      "\u001b[1m287/287\u001b[0m \u001b[32m━━━━━━━━━━━━━━━━━━━━\u001b[0m\u001b[37m\u001b[0m \u001b[1m1s\u001b[0m 2ms/step - accuracy: 0.9691 - loss: 0.1073 - val_accuracy: 0.9122 - val_loss: 0.4976\n",
      "Epoch 53/120\n",
      "\u001b[1m287/287\u001b[0m \u001b[32m━━━━━━━━━━━━━━━━━━━━\u001b[0m\u001b[37m\u001b[0m \u001b[1m1s\u001b[0m 2ms/step - accuracy: 0.9607 - loss: 0.1249 - val_accuracy: 0.8873 - val_loss: 0.5423\n",
      "Epoch 54/120\n",
      "\u001b[1m287/287\u001b[0m \u001b[32m━━━━━━━━━━━━━━━━━━━━\u001b[0m\u001b[37m\u001b[0m \u001b[1m1s\u001b[0m 2ms/step - accuracy: 0.9552 - loss: 0.1450 - val_accuracy: 0.9083 - val_loss: 0.5138\n",
      "Epoch 55/120\n",
      "\u001b[1m287/287\u001b[0m \u001b[32m━━━━━━━━━━━━━━━━━━━━\u001b[0m\u001b[37m\u001b[0m \u001b[1m1s\u001b[0m 2ms/step - accuracy: 0.9661 - loss: 0.1165 - val_accuracy: 0.9131 - val_loss: 0.4817\n",
      "Epoch 56/120\n",
      "\u001b[1m287/287\u001b[0m \u001b[32m━━━━━━━━━━━━━━━━━━━━\u001b[0m\u001b[37m\u001b[0m \u001b[1m1s\u001b[0m 2ms/step - accuracy: 0.9417 - loss: 0.1860 - val_accuracy: 0.8926 - val_loss: 0.5727\n",
      "Epoch 57/120\n",
      "\u001b[1m287/287\u001b[0m \u001b[32m━━━━━━━━━━━━━━━━━━━━\u001b[0m\u001b[37m\u001b[0m \u001b[1m1s\u001b[0m 2ms/step - accuracy: 0.9638 - loss: 0.1135 - val_accuracy: 0.8939 - val_loss: 0.5151\n",
      "Epoch 58/120\n",
      "\u001b[1m287/287\u001b[0m \u001b[32m━━━━━━━━━━━━━━━━━━━━\u001b[0m\u001b[37m\u001b[0m \u001b[1m1s\u001b[0m 2ms/step - accuracy: 0.9576 - loss: 0.1285 - val_accuracy: 0.9013 - val_loss: 0.5045\n",
      "Epoch 59/120\n",
      "\u001b[1m287/287\u001b[0m \u001b[32m━━━━━━━━━━━━━━━━━━━━\u001b[0m\u001b[37m\u001b[0m \u001b[1m1s\u001b[0m 2ms/step - accuracy: 0.9544 - loss: 0.1449 - val_accuracy: 0.9022 - val_loss: 0.5225\n",
      "Epoch 60/120\n",
      "\u001b[1m287/287\u001b[0m \u001b[32m━━━━━━━━━━━━━━━━━━━━\u001b[0m\u001b[37m\u001b[0m \u001b[1m1s\u001b[0m 2ms/step - accuracy: 0.9662 - loss: 0.1040 - val_accuracy: 0.8677 - val_loss: 0.6414\n",
      "Epoch 61/120\n",
      "\u001b[1m287/287\u001b[0m \u001b[32m━━━━━━━━━━━━━━━━━━━━\u001b[0m\u001b[37m\u001b[0m \u001b[1m1s\u001b[0m 2ms/step - accuracy: 0.9498 - loss: 0.1572 - val_accuracy: 0.9013 - val_loss: 0.5116\n",
      "Epoch 62/120\n",
      "\u001b[1m287/287\u001b[0m \u001b[32m━━━━━━━━━━━━━━━━━━━━\u001b[0m\u001b[37m\u001b[0m \u001b[1m1s\u001b[0m 2ms/step - accuracy: 0.9400 - loss: 0.1906 - val_accuracy: 0.9044 - val_loss: 0.5101\n",
      "Epoch 63/120\n",
      "\u001b[1m287/287\u001b[0m \u001b[32m━━━━━━━━━━━━━━━━━━━━\u001b[0m\u001b[37m\u001b[0m \u001b[1m1s\u001b[0m 2ms/step - accuracy: 0.9607 - loss: 0.1186 - val_accuracy: 0.8803 - val_loss: 0.5965\n",
      "Epoch 64/120\n",
      "\u001b[1m287/287\u001b[0m \u001b[32m━━━━━━━━━━━━━━━━━━━━\u001b[0m\u001b[37m\u001b[0m \u001b[1m1s\u001b[0m 2ms/step - accuracy: 0.9482 - loss: 0.1621 - val_accuracy: 0.9092 - val_loss: 0.5112\n",
      "Epoch 65/120\n",
      "\u001b[1m287/287\u001b[0m \u001b[32m━━━━━━━━━━━━━━━━━━━━\u001b[0m\u001b[37m\u001b[0m \u001b[1m1s\u001b[0m 2ms/step - accuracy: 0.9664 - loss: 0.1213 - val_accuracy: 0.9026 - val_loss: 0.5349\n",
      "Epoch 66/120\n",
      "\u001b[1m287/287\u001b[0m \u001b[32m━━━━━━━━━━━━━━━━━━━━\u001b[0m\u001b[37m\u001b[0m \u001b[1m1s\u001b[0m 2ms/step - accuracy: 0.9596 - loss: 0.1294 - val_accuracy: 0.9048 - val_loss: 0.5001\n",
      "Epoch 67/120\n",
      "\u001b[1m287/287\u001b[0m \u001b[32m━━━━━━━━━━━━━━━━━━━━\u001b[0m\u001b[37m\u001b[0m \u001b[1m1s\u001b[0m 2ms/step - accuracy: 0.9656 - loss: 0.1180 - val_accuracy: 0.8969 - val_loss: 0.5416\n",
      "Epoch 68/120\n",
      "\u001b[1m287/287\u001b[0m \u001b[32m━━━━━━━━━━━━━━━━━━━━\u001b[0m\u001b[37m\u001b[0m \u001b[1m1s\u001b[0m 2ms/step - accuracy: 0.9614 - loss: 0.1210 - val_accuracy: 0.9096 - val_loss: 0.4938\n",
      "Epoch 69/120\n",
      "\u001b[1m287/287\u001b[0m \u001b[32m━━━━━━━━━━━━━━━━━━━━\u001b[0m\u001b[37m\u001b[0m \u001b[1m1s\u001b[0m 2ms/step - accuracy: 0.9639 - loss: 0.1118 - val_accuracy: 0.8996 - val_loss: 0.5570\n",
      "Epoch 70/120\n",
      "\u001b[1m287/287\u001b[0m \u001b[32m━━━━━━━━━━━━━━━━━━━━\u001b[0m\u001b[37m\u001b[0m \u001b[1m1s\u001b[0m 2ms/step - accuracy: 0.9393 - loss: 0.2069 - val_accuracy: 0.8987 - val_loss: 0.5551\n",
      "Epoch 71/120\n",
      "\u001b[1m287/287\u001b[0m \u001b[32m━━━━━━━━━━━━━━━━━━━━\u001b[0m\u001b[37m\u001b[0m \u001b[1m1s\u001b[0m 2ms/step - accuracy: 0.9544 - loss: 0.1476 - val_accuracy: 0.9044 - val_loss: 0.5069\n",
      "Epoch 72/120\n",
      "\u001b[1m287/287\u001b[0m \u001b[32m━━━━━━━━━━━━━━━━━━━━\u001b[0m\u001b[37m\u001b[0m \u001b[1m1s\u001b[0m 2ms/step - accuracy: 0.9510 - loss: 0.1471 - val_accuracy: 0.8978 - val_loss: 0.6299\n",
      "Epoch 73/120\n",
      "\u001b[1m287/287\u001b[0m \u001b[32m━━━━━━━━━━━━━━━━━━━━\u001b[0m\u001b[37m\u001b[0m \u001b[1m1s\u001b[0m 2ms/step - accuracy: 0.9551 - loss: 0.1382 - val_accuracy: 0.9004 - val_loss: 0.5666\n",
      "Epoch 74/120\n",
      "\u001b[1m287/287\u001b[0m \u001b[32m━━━━━━━━━━━━━━━━━━━━\u001b[0m\u001b[37m\u001b[0m \u001b[1m1s\u001b[0m 2ms/step - accuracy: 0.9685 - loss: 0.1056 - val_accuracy: 0.9118 - val_loss: 0.4999\n",
      "Epoch 75/120\n",
      "\u001b[1m287/287\u001b[0m \u001b[32m━━━━━━━━━━━━━━━━━━━━\u001b[0m\u001b[37m\u001b[0m \u001b[1m1s\u001b[0m 2ms/step - accuracy: 0.9723 - loss: 0.0973 - val_accuracy: 0.8786 - val_loss: 0.6210\n",
      "Epoch 76/120\n",
      "\u001b[1m287/287\u001b[0m \u001b[32m━━━━━━━━━━━━━━━━━━━━\u001b[0m\u001b[37m\u001b[0m \u001b[1m1s\u001b[0m 2ms/step - accuracy: 0.9596 - loss: 0.1310 - val_accuracy: 0.9061 - val_loss: 0.5179\n",
      "Epoch 77/120\n",
      "\u001b[1m287/287\u001b[0m \u001b[32m━━━━━━━━━━━━━━━━━━━━\u001b[0m\u001b[37m\u001b[0m \u001b[1m1s\u001b[0m 2ms/step - accuracy: 0.9641 - loss: 0.1138 - val_accuracy: 0.8795 - val_loss: 0.6522\n",
      "Epoch 78/120\n",
      "\u001b[1m287/287\u001b[0m \u001b[32m━━━━━━━━━━━━━━━━━━━━\u001b[0m\u001b[37m\u001b[0m \u001b[1m1s\u001b[0m 2ms/step - accuracy: 0.9411 - loss: 0.1723 - val_accuracy: 0.8991 - val_loss: 0.5293\n",
      "Epoch 79/120\n",
      "\u001b[1m287/287\u001b[0m \u001b[32m━━━━━━━━━━━━━━━━━━━━\u001b[0m\u001b[37m\u001b[0m \u001b[1m1s\u001b[0m 2ms/step - accuracy: 0.9586 - loss: 0.1426 - val_accuracy: 0.8707 - val_loss: 0.6958\n",
      "Epoch 80/120\n",
      "\u001b[1m287/287\u001b[0m \u001b[32m━━━━━━━━━━━━━━━━━━━━\u001b[0m\u001b[37m\u001b[0m \u001b[1m1s\u001b[0m 2ms/step - accuracy: 0.9499 - loss: 0.1596 - val_accuracy: 0.9031 - val_loss: 0.5363\n",
      "Epoch 81/120\n",
      "\u001b[1m287/287\u001b[0m \u001b[32m━━━━━━━━━━━━━━━━━━━━\u001b[0m\u001b[37m\u001b[0m \u001b[1m1s\u001b[0m 2ms/step - accuracy: 0.9593 - loss: 0.1260 - val_accuracy: 0.9044 - val_loss: 0.5367\n",
      "Epoch 82/120\n",
      "\u001b[1m287/287\u001b[0m \u001b[32m━━━━━━━━━━━━━━━━━━━━\u001b[0m\u001b[37m\u001b[0m \u001b[1m1s\u001b[0m 2ms/step - accuracy: 0.9653 - loss: 0.1132 - val_accuracy: 0.8943 - val_loss: 0.5972\n",
      "Epoch 83/120\n",
      "\u001b[1m287/287\u001b[0m \u001b[32m━━━━━━━━━━━━━━━━━━━━\u001b[0m\u001b[37m\u001b[0m \u001b[1m1s\u001b[0m 2ms/step - accuracy: 0.9626 - loss: 0.1157 - val_accuracy: 0.9044 - val_loss: 0.5237\n",
      "Epoch 84/120\n",
      "\u001b[1m287/287\u001b[0m \u001b[32m━━━━━━━━━━━━━━━━━━━━\u001b[0m\u001b[37m\u001b[0m \u001b[1m1s\u001b[0m 2ms/step - accuracy: 0.9666 - loss: 0.1143 - val_accuracy: 0.9066 - val_loss: 0.5205\n",
      "Epoch 85/120\n",
      "\u001b[1m287/287\u001b[0m \u001b[32m━━━━━━━━━━━━━━━━━━━━\u001b[0m\u001b[37m\u001b[0m \u001b[1m1s\u001b[0m 2ms/step - accuracy: 0.9657 - loss: 0.1076 - val_accuracy: 0.9057 - val_loss: 0.5290\n",
      "Epoch 86/120\n",
      "\u001b[1m287/287\u001b[0m \u001b[32m━━━━━━━━━━━━━━━━━━━━\u001b[0m\u001b[37m\u001b[0m \u001b[1m1s\u001b[0m 2ms/step - accuracy: 0.9696 - loss: 0.1021 - val_accuracy: 0.8821 - val_loss: 0.5987\n",
      "Epoch 87/120\n",
      "\u001b[1m287/287\u001b[0m \u001b[32m━━━━━━━━━━━━━━━━━━━━\u001b[0m\u001b[37m\u001b[0m \u001b[1m1s\u001b[0m 2ms/step - accuracy: 0.9510 - loss: 0.1541 - val_accuracy: 0.8939 - val_loss: 0.5702\n",
      "Epoch 88/120\n",
      "\u001b[1m287/287\u001b[0m \u001b[32m━━━━━━━━━━━━━━━━━━━━\u001b[0m\u001b[37m\u001b[0m \u001b[1m1s\u001b[0m 2ms/step - accuracy: 0.9530 - loss: 0.1384 - val_accuracy: 0.8991 - val_loss: 0.5532\n",
      "Epoch 89/120\n",
      "\u001b[1m287/287\u001b[0m \u001b[32m━━━━━━━━━━━━━━━━━━━━\u001b[0m\u001b[37m\u001b[0m \u001b[1m1s\u001b[0m 2ms/step - accuracy: 0.9660 - loss: 0.1068 - val_accuracy: 0.8961 - val_loss: 0.5747\n",
      "Epoch 90/120\n",
      "\u001b[1m287/287\u001b[0m \u001b[32m━━━━━━━━━━━━━━━━━━━━\u001b[0m\u001b[37m\u001b[0m \u001b[1m1s\u001b[0m 2ms/step - accuracy: 0.9555 - loss: 0.1392 - val_accuracy: 0.9070 - val_loss: 0.5459\n",
      "Epoch 91/120\n",
      "\u001b[1m287/287\u001b[0m \u001b[32m━━━━━━━━━━━━━━━━━━━━\u001b[0m\u001b[37m\u001b[0m \u001b[1m1s\u001b[0m 2ms/step - accuracy: 0.9546 - loss: 0.1452 - val_accuracy: 0.9100 - val_loss: 0.5179\n",
      "Epoch 92/120\n",
      "\u001b[1m287/287\u001b[0m \u001b[32m━━━━━━━━━━━━━━━━━━━━\u001b[0m\u001b[37m\u001b[0m \u001b[1m1s\u001b[0m 2ms/step - accuracy: 0.9701 - loss: 0.1065 - val_accuracy: 0.9044 - val_loss: 0.5436\n",
      "Epoch 93/120\n",
      "\u001b[1m287/287\u001b[0m \u001b[32m━━━━━━━━━━━━━━━━━━━━\u001b[0m\u001b[37m\u001b[0m \u001b[1m1s\u001b[0m 2ms/step - accuracy: 0.9643 - loss: 0.1181 - val_accuracy: 0.9048 - val_loss: 0.5630\n",
      "Epoch 94/120\n",
      "\u001b[1m287/287\u001b[0m \u001b[32m━━━━━━━━━━━━━━━━━━━━\u001b[0m\u001b[37m\u001b[0m \u001b[1m1s\u001b[0m 2ms/step - accuracy: 0.9448 - loss: 0.1755 - val_accuracy: 0.9044 - val_loss: 0.5409\n",
      "Epoch 95/120\n",
      "\u001b[1m287/287\u001b[0m \u001b[32m━━━━━━━━━━━━━━━━━━━━\u001b[0m\u001b[37m\u001b[0m \u001b[1m1s\u001b[0m 2ms/step - accuracy: 0.9706 - loss: 0.1050 - val_accuracy: 0.9022 - val_loss: 0.5207\n",
      "Epoch 96/120\n",
      "\u001b[1m287/287\u001b[0m \u001b[32m━━━━━━━━━━━━━━━━━━━━\u001b[0m\u001b[37m\u001b[0m \u001b[1m1s\u001b[0m 2ms/step - accuracy: 0.9442 - loss: 0.1825 - val_accuracy: 0.8913 - val_loss: 0.5715\n",
      "Epoch 97/120\n",
      "\u001b[1m287/287\u001b[0m \u001b[32m━━━━━━━━━━━━━━━━━━━━\u001b[0m\u001b[37m\u001b[0m \u001b[1m1s\u001b[0m 2ms/step - accuracy: 0.9589 - loss: 0.1269 - val_accuracy: 0.8996 - val_loss: 0.5251\n",
      "Epoch 98/120\n",
      "\u001b[1m287/287\u001b[0m \u001b[32m━━━━━━━━━━━━━━━━━━━━\u001b[0m\u001b[37m\u001b[0m \u001b[1m1s\u001b[0m 2ms/step - accuracy: 0.9700 - loss: 0.1020 - val_accuracy: 0.9079 - val_loss: 0.5262\n",
      "Epoch 99/120\n",
      "\u001b[1m287/287\u001b[0m \u001b[32m━━━━━━━━━━━━━━━━━━━━\u001b[0m\u001b[37m\u001b[0m \u001b[1m1s\u001b[0m 2ms/step - accuracy: 0.9634 - loss: 0.1187 - val_accuracy: 0.8852 - val_loss: 0.6196\n",
      "Epoch 100/120\n",
      "\u001b[1m287/287\u001b[0m \u001b[32m━━━━━━━━━━━━━━━━━━━━\u001b[0m\u001b[37m\u001b[0m \u001b[1m1s\u001b[0m 2ms/step - accuracy: 0.9402 - loss: 0.1992 - val_accuracy: 0.9057 - val_loss: 0.5163\n",
      "Epoch 101/120\n",
      "\u001b[1m287/287\u001b[0m \u001b[32m━━━━━━━━━━━━━━━━━━━━\u001b[0m\u001b[37m\u001b[0m \u001b[1m1s\u001b[0m 2ms/step - accuracy: 0.9606 - loss: 0.1213 - val_accuracy: 0.8817 - val_loss: 0.6397\n",
      "Epoch 102/120\n",
      "\u001b[1m287/287\u001b[0m \u001b[32m━━━━━━━━━━━━━━━━━━━━\u001b[0m\u001b[37m\u001b[0m \u001b[1m1s\u001b[0m 2ms/step - accuracy: 0.9581 - loss: 0.1264 - val_accuracy: 0.9144 - val_loss: 0.5329\n",
      "Epoch 103/120\n",
      "\u001b[1m287/287\u001b[0m \u001b[32m━━━━━━━━━━━━━━━━━━━━\u001b[0m\u001b[37m\u001b[0m \u001b[1m1s\u001b[0m 2ms/step - accuracy: 0.9691 - loss: 0.0996 - val_accuracy: 0.8865 - val_loss: 0.6059\n",
      "Epoch 104/120\n",
      "\u001b[1m287/287\u001b[0m \u001b[32m━━━━━━━━━━━━━━━━━━━━\u001b[0m\u001b[37m\u001b[0m \u001b[1m1s\u001b[0m 2ms/step - accuracy: 0.9511 - loss: 0.1593 - val_accuracy: 0.9052 - val_loss: 0.5491\n",
      "Epoch 105/120\n",
      "\u001b[1m287/287\u001b[0m \u001b[32m━━━━━━━━━━━━━━━━━━━━\u001b[0m\u001b[37m\u001b[0m \u001b[1m1s\u001b[0m 2ms/step - accuracy: 0.9718 - loss: 0.0954 - val_accuracy: 0.8987 - val_loss: 0.5831\n",
      "Epoch 106/120\n",
      "\u001b[1m287/287\u001b[0m \u001b[32m━━━━━━━━━━━━━━━━━━━━\u001b[0m\u001b[37m\u001b[0m \u001b[1m1s\u001b[0m 2ms/step - accuracy: 0.9588 - loss: 0.1257 - val_accuracy: 0.8939 - val_loss: 0.6152\n",
      "Epoch 107/120\n",
      "\u001b[1m287/287\u001b[0m \u001b[32m━━━━━━━━━━━━━━━━━━━━\u001b[0m\u001b[37m\u001b[0m \u001b[1m1s\u001b[0m 2ms/step - accuracy: 0.9625 - loss: 0.1167 - val_accuracy: 0.9083 - val_loss: 0.5434\n",
      "Epoch 108/120\n",
      "\u001b[1m287/287\u001b[0m \u001b[32m━━━━━━━━━━━━━━━━━━━━\u001b[0m\u001b[37m\u001b[0m \u001b[1m1s\u001b[0m 2ms/step - accuracy: 0.9677 - loss: 0.1099 - val_accuracy: 0.9031 - val_loss: 0.5229\n",
      "Epoch 109/120\n",
      "\u001b[1m287/287\u001b[0m \u001b[32m━━━━━━━━━━━━━━━━━━━━\u001b[0m\u001b[37m\u001b[0m \u001b[1m1s\u001b[0m 2ms/step - accuracy: 0.9703 - loss: 0.0931 - val_accuracy: 0.9066 - val_loss: 0.5578\n",
      "Epoch 110/120\n",
      "\u001b[1m287/287\u001b[0m \u001b[32m━━━━━━━━━━━━━━━━━━━━\u001b[0m\u001b[37m\u001b[0m \u001b[1m1s\u001b[0m 2ms/step - accuracy: 0.9650 - loss: 0.1020 - val_accuracy: 0.8686 - val_loss: 0.6991\n",
      "Epoch 111/120\n",
      "\u001b[1m287/287\u001b[0m \u001b[32m━━━━━━━━━━━━━━━━━━━━\u001b[0m\u001b[37m\u001b[0m \u001b[1m1s\u001b[0m 2ms/step - accuracy: 0.9187 - loss: 0.3031 - val_accuracy: 0.8987 - val_loss: 0.5392\n",
      "Epoch 112/120\n",
      "\u001b[1m287/287\u001b[0m \u001b[32m━━━━━━━━━━━━━━━━━━━━\u001b[0m\u001b[37m\u001b[0m \u001b[1m1s\u001b[0m 2ms/step - accuracy: 0.9654 - loss: 0.1098 - val_accuracy: 0.9070 - val_loss: 0.5051\n",
      "Epoch 113/120\n",
      "\u001b[1m287/287\u001b[0m \u001b[32m━━━━━━━━━━━━━━━━━━━━\u001b[0m\u001b[37m\u001b[0m \u001b[1m1s\u001b[0m 2ms/step - accuracy: 0.9734 - loss: 0.0890 - val_accuracy: 0.8983 - val_loss: 0.5443\n",
      "Epoch 114/120\n",
      "\u001b[1m287/287\u001b[0m \u001b[32m━━━━━━━━━━━━━━━━━━━━\u001b[0m\u001b[37m\u001b[0m \u001b[1m1s\u001b[0m 2ms/step - accuracy: 0.9724 - loss: 0.0908 - val_accuracy: 0.8921 - val_loss: 0.6218\n",
      "Epoch 115/120\n",
      "\u001b[1m287/287\u001b[0m \u001b[32m━━━━━━━━━━━━━━━━━━━━\u001b[0m\u001b[37m\u001b[0m \u001b[1m1s\u001b[0m 2ms/step - accuracy: 0.9568 - loss: 0.1271 - val_accuracy: 0.8969 - val_loss: 0.5541\n",
      "Epoch 116/120\n",
      "\u001b[1m287/287\u001b[0m \u001b[32m━━━━━━━━━━━━━━━━━━━━\u001b[0m\u001b[37m\u001b[0m \u001b[1m1s\u001b[0m 2ms/step - accuracy: 0.9681 - loss: 0.1036 - val_accuracy: 0.8965 - val_loss: 0.5664\n",
      "Epoch 117/120\n",
      "\u001b[1m287/287\u001b[0m \u001b[32m━━━━━━━━━━━━━━━━━━━━\u001b[0m\u001b[37m\u001b[0m \u001b[1m1s\u001b[0m 2ms/step - accuracy: 0.9504 - loss: 0.1561 - val_accuracy: 0.8956 - val_loss: 0.6117\n",
      "Epoch 118/120\n",
      "\u001b[1m287/287\u001b[0m \u001b[32m━━━━━━━━━━━━━━━━━━━━\u001b[0m\u001b[37m\u001b[0m \u001b[1m1s\u001b[0m 2ms/step - accuracy: 0.9664 - loss: 0.1057 - val_accuracy: 0.9022 - val_loss: 0.5922\n",
      "Epoch 119/120\n",
      "\u001b[1m287/287\u001b[0m \u001b[32m━━━━━━━━━━━━━━━━━━━━\u001b[0m\u001b[37m\u001b[0m \u001b[1m1s\u001b[0m 2ms/step - accuracy: 0.9610 - loss: 0.1270 - val_accuracy: 0.8921 - val_loss: 0.6343\n",
      "Epoch 120/120\n",
      "\u001b[1m287/287\u001b[0m \u001b[32m━━━━━━━━━━━━━━━━━━━━\u001b[0m\u001b[37m\u001b[0m \u001b[1m1s\u001b[0m 2ms/step - accuracy: 0.9576 - loss: 0.1489 - val_accuracy: 0.9035 - val_loss: 0.5390\n"
     ]
    }
   ],
   "source": [
    "history = model.fit(X_train_tf, Y_train_tf,\n",
    "                    epochs=120,              \n",
    "                    batch_size=32,\n",
    "                    validation_data=(X_test_tf, Y_test_tf))\n"
   ]
  },
  {
   "cell_type": "code",
   "execution_count": 71,
   "id": "a64bf1bf-e2a8-46b9-b829-aaf53a0d10c4",
   "metadata": {},
   "outputs": [
    {
     "name": "stdout",
     "output_type": "stream",
     "text": [
      "\u001b[1m72/72\u001b[0m \u001b[32m━━━━━━━━━━━━━━━━━━━━\u001b[0m\u001b[37m\u001b[0m \u001b[1m0s\u001b[0m 1ms/step - accuracy: 0.9067 - loss: 0.5793\n",
      "\n",
      "Test Accuracy: 90.35%\n"
     ]
    }
   ],
   "source": [
    "test_loss, test_acc = model.evaluate(X_test_tf, Y_test_tf)\n",
    "print(f\"\\nTest Accuracy: {test_acc * 100:.2f}%\")\n"
   ]
  },
  {
   "cell_type": "markdown",
   "id": "9fa6e043-a731-424b-83ba-24d587ce2045",
   "metadata": {},
   "source": [
    "## Homework 2: Use tensorflow to create and train the neural network "
   ]
  },
  {
   "cell_type": "markdown",
   "id": "c9df367c-51b5-440b-90d2-830048189d26",
   "metadata": {},
   "source": [
    "#### Do not change the code from above"
   ]
  }
 ],
 "metadata": {
  "kernelspec": {
   "display_name": "Python 3 (ipykernel)",
   "language": "python",
   "name": "python3"
  },
  "language_info": {
   "codemirror_mode": {
    "name": "ipython",
    "version": 3
   },
   "file_extension": ".py",
   "mimetype": "text/x-python",
   "name": "python",
   "nbconvert_exporter": "python",
   "pygments_lexer": "ipython3",
   "version": "3.12.3"
  }
 },
 "nbformat": 4,
 "nbformat_minor": 5
}
