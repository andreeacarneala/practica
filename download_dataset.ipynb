{
 "cells": [
  {
   "cell_type": "code",
   "execution_count": 1,
   "id": "55c3c106-8248-43fd-b690-80560cc931ed",
   "metadata": {},
   "outputs": [
    {
     "name": "stderr",
     "output_type": "stream",
     "text": [
      "100.0%\n",
      "100.0%\n",
      "100.0%\n"
     ]
    },
    {
     "name": "stdout",
     "output_type": "stream",
     "text": [
      "Generated gtsrb_dataset.csv with 39270 entries.\n"
     ]
    }
   ],
   "source": [
    "from torchvision.datasets import GTSRB\n",
    "from PIL import Image\n",
    "import os\n",
    "import csv\n",
    "\n",
    "root_dir   = \"./GTSRB_data\"\n",
    "output_dir = \"./GTSRB_png\"\n",
    "os.makedirs(output_dir, exist_ok=True)\n",
    "\n",
    "rows = []\n",
    "\n",
    "for split in [\"train\", \"test\"]:\n",
    "    dataset = GTSRB(root=root_dir, split=split, download=True)\n",
    "    for idx, (img, label) in enumerate(dataset):\n",
    "        class_dir = os.path.join(output_dir, f\"{label:02d}\")\n",
    "        os.makedirs(class_dir, exist_ok=True)\n",
    "        fname = f\"{split}_{idx:05d}.png\"\n",
    "        path = os.path.join(class_dir, fname)\n",
    "        img.save(path)\n",
    "        rows.append([label, path])\n",
    "\n",
    "csv_file = \"gtsrb_dataset.csv\"\n",
    "with open(csv_file, \"w\", newline=\"\") as f:\n",
    "    writer = csv.writer(f)\n",
    "    writer.writerow([\"label\", \"path\"])\n",
    "    writer.writerows(rows)\n",
    "\n",
    "print(f\"Generated {csv_file} with {len(rows)} entries.\")\n"
   ]
  },
  {
   "cell_type": "code",
   "execution_count": null,
   "id": "1f12512a-bd0c-402e-9052-e049bd195849",
   "metadata": {},
   "outputs": [],
   "source": []
  }
 ],
 "metadata": {
  "kernelspec": {
   "display_name": "Python 3 (ipykernel)",
   "language": "python",
   "name": "python3"
  },
  "language_info": {
   "codemirror_mode": {
    "name": "ipython",
    "version": 3
   },
   "file_extension": ".py",
   "mimetype": "text/x-python",
   "name": "python",
   "nbconvert_exporter": "python",
   "pygments_lexer": "ipython3",
   "version": "3.10.12"
  }
 },
 "nbformat": 4,
 "nbformat_minor": 5
}
